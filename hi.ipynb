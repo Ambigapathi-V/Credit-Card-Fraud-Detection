{
 "cells": [
  {
   "cell_type": "code",
   "execution_count": 1,
   "metadata": {},
   "outputs": [],
   "source": [
    "import pandas as pd\n",
    "df = pd.read_csv(r\"C:\\Users\\ambig\\Downloads\\creditcard.csv\")"
   ]
  },
  {
   "cell_type": "code",
   "execution_count": 2,
   "metadata": {},
   "outputs": [],
   "source": [
    "## save data in csv with thesse columns names 'V12', 'V17', 'V14', 'V10', 'V11', 'V16', 'V9', 'V4', 'V18', 'V21'\n",
    "## Make first 10 columns with class == 1\n",
    "## Make first 10 columns with class == 0\n",
    "## save the data in csv file\n",
    "\n",
    "df_class1 = df.loc[df['Class'] == 1].head(10)\n",
    "df_class0 = df.loc[df['Class'] == 0].head(10)\n",
    "\n",
    "df_new = pd.concat([df_class1, df_class0])\n",
    "df_new = df_new.reset_index(drop=True)\n",
    "\n",
    "df_new[['V12', 'V17', 'V14', 'V10', 'V11', 'V16', 'V9', 'V4', 'V18', 'V21']].to_csv(\"creditcard_modified.csv\", index=False)\n"
   ]
  },
  {
   "cell_type": "code",
   "execution_count": null,
   "metadata": {},
   "outputs": [],
   "source": []
  }
 ],
 "metadata": {
  "kernelspec": {
   "display_name": "Python 3",
   "language": "python",
   "name": "python3"
  },
  "language_info": {
   "codemirror_mode": {
    "name": "ipython",
    "version": 3
   },
   "file_extension": ".py",
   "mimetype": "text/x-python",
   "name": "python",
   "nbconvert_exporter": "python",
   "pygments_lexer": "ipython3",
   "version": "3.10.0"
  }
 },
 "nbformat": 4,
 "nbformat_minor": 2
}
